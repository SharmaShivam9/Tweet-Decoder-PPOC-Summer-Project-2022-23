{
  "nbformat": 4,
  "nbformat_minor": 0,
  "metadata": {
    "colab": {
      "provenance": []
    },
    "kernelspec": {
      "name": "python3",
      "display_name": "Python 3"
    },
    "language_info": {
      "name": "python"
    }
  },
  "cells": [
    {
      "cell_type": "markdown",
      "source": [
        "INSTRUCTIONS:\n",
        "\n",
        "Go to File -> Save a Copy in Drive and edit this notebook in your copy\n",
        "\n",
        "Name the copy as : Name_RollNo_AssignmentNo\n",
        "\n",
        "Put all your doubts on Whatsapp group.\n",
        "\n",
        "try not to use chatgpt"
      ],
      "metadata": {
        "id": "OyPUdxttlp_B"
      }
    },
    {
      "cell_type": "code",
      "source": [
        "import numpy as np"
      ],
      "metadata": {
        "id": "oopwCcsNmLPo"
      },
      "execution_count": null,
      "outputs": []
    },
    {
      "cell_type": "markdown",
      "source": [
        "1.Create a variable temperature and assign it the value of the current temperature in your city.\n",
        "\n",
        "> Add blockquote\n",
        "\n",
        "\n",
        "Create another variable weather and assign it a string describing the weather (e.g., \"sunny\", \"rainy\", \"cloudy\")."
      ],
      "metadata": {
        "id": "Nw14j5trnfo9"
      }
    },
    {
      "cell_type": "code",
      "source": [
        "Temp=50\n",
        "Weather=\"Sunny\""
      ],
      "metadata": {
        "id": "US3KhCxTmOZ2"
      },
      "execution_count": null,
      "outputs": []
    },
    {
      "cell_type": "markdown",
      "source": [
        "2.mixed_data_types = [1, 2.5, \"hello\", True, [1, 2, 3]]\n",
        "\n",
        "   Check the data type of each element in the list."
      ],
      "metadata": {
        "id": "3kXpl1d3o2K3"
      }
    },
    {
      "cell_type": "code",
      "source": [
        "mixed_data_types = [1, 2.5, \"hello\", True, [1, 2, 3]]\n",
        "for element in mixed_data_types:\n",
        "    print(\"Data Type of \",element , \"is : \",type(element))"
      ],
      "metadata": {
        "id": "p8hD4zpOpfpH",
        "colab": {
          "base_uri": "https://localhost:8080/"
        },
        "outputId": "7373b4dd-4123-4a77-fdcf-68e38a440235"
      },
      "execution_count": null,
      "outputs": [
        {
          "output_type": "stream",
          "name": "stdout",
          "text": [
            "Data Type of  1 is :  <class 'int'>\n",
            "Data Type of  2.5 is :  <class 'float'>\n",
            "Data Type of  hello is :  <class 'str'>\n",
            "Data Type of  True is :  <class 'bool'>\n",
            "Data Type of  [1, 2, 3] is :  <class 'list'>\n"
          ]
        }
      ]
    },
    {
      "cell_type": "markdown",
      "source": [
        "3.Calculate the area of a circle with radius r = 5.\n",
        "\n",
        "Calculate the square root of a number of your choice."
      ],
      "metadata": {
        "id": "0nk9Ihl6p2j3"
      }
    },
    {
      "cell_type": "code",
      "source": [
        "r=5\n",
        "area=3.14*r**2\n",
        "print(area)"
      ],
      "metadata": {
        "id": "W2NGslQ3qCWg",
        "colab": {
          "base_uri": "https://localhost:8080/"
        },
        "outputId": "bb2a07f6-00ff-4d71-dd16-8f0f4a2fbf96"
      },
      "execution_count": null,
      "outputs": [
        {
          "output_type": "stream",
          "name": "stdout",
          "text": [
            "78.5\n"
          ]
        }
      ]
    },
    {
      "cell_type": "code",
      "source": [
        "n=100\n",
        "square_root=np.sqrt(n)\n",
        "print(square_root)"
      ],
      "metadata": {
        "colab": {
          "base_uri": "https://localhost:8080/"
        },
        "id": "3i49sHUve8n1",
        "outputId": "9e43aaf7-823c-428f-a574-cd2eb1f042f1"
      },
      "execution_count": null,
      "outputs": [
        {
          "output_type": "stream",
          "name": "stdout",
          "text": [
            "10.0\n"
          ]
        }
      ]
    },
    {
      "cell_type": "markdown",
      "source": [
        "4.Create a string containing the following lyrics\n",
        "\n",
        "It was the best of times,\n",
        "it was the worst of times,\n",
        "it was the age of wisdom,\n",
        "it was the age of foolishness,\n",
        "it was the epoch of belief,\n",
        "it was the epoch of incredulity,\n",
        "it was the season of Light,\n",
        "it was the season of Darkness,\n",
        "it was the spring of hope,\n",
        "it was the winter of despair,\n",
        "\n",
        "Count the number of occurrences of the word \"the\" and \"epoch\" in the string."
      ],
      "metadata": {
        "id": "yJ5dhOE4qCpN"
      }
    },
    {
      "cell_type": "code",
      "source": [
        "str=\"It was the best of times, it was the worst of times, it was the age of wisdom, it was the age of foolishness, it was the epoch of belief, it was the epoch of incredulity, it was the season of Light, it was the season of Darkness, it was the spring of hope, it was the winter of despair.\"\n",
        "the_count=str.count(\"the\")\n",
        "epoch_count=str.count(\"epoch\")\n",
        "print(\"No of \\\"the\\\" is: \",the_count)\n",
        "print(\"No of \\\"epoch\\\" is: \",epoch_count)"
      ],
      "metadata": {
        "id": "4Zt8B8-rsIEo",
        "colab": {
          "base_uri": "https://localhost:8080/"
        },
        "outputId": "8067be55-35bb-4ae4-92e2-a2cb6c1cd5e0"
      },
      "execution_count": null,
      "outputs": [
        {
          "output_type": "stream",
          "name": "stdout",
          "text": [
            "No of \"the\" is:  10\n",
            "No of \"epoch\" is:  2\n"
          ]
        }
      ]
    },
    {
      "cell_type": "markdown",
      "source": [
        "5.Implement a boolean logic puzzle where the user needs to answer whether a given number is divisible by both 2 and 3. Fill in the Blanks"
      ],
      "metadata": {
        "id": "cbc9kxLasKfV"
      }
    },
    {
      "cell_type": "code",
      "source": [
        "# Get the number from the user\n",
        "number = int(input(\"Enter a number: \"))\n",
        "\n",
        "# Check if the number is divisible by both 2 and 3\n",
        "is_divisible_by_2_and_3 = (number % 2 == 0) and (number % 3 == 0)\n",
        "\n",
        "# Print the result\n",
        "if is_divisible_by_2_and_3:\n",
        "    print(f\"{number} is divisible by both 2 and 3.\")\n",
        "else:\n",
        "    print(f\"{number} is not divisible by both 2 and 3.\")"
      ],
      "metadata": {
        "id": "Lud3HjHusW-i",
        "colab": {
          "base_uri": "https://localhost:8080/"
        },
        "outputId": "0859ead0-3a51-4b1c-cdeb-88bbbdf634b9"
      },
      "execution_count": null,
      "outputs": [
        {
          "output_type": "stream",
          "name": "stdout",
          "text": [
            "Enter a number: 5\n",
            "5 is not divisible by both 2 and 3.\n"
          ]
        }
      ]
    },
    {
      "cell_type": "markdown",
      "source": [
        "6.Check if the result of (10 - 5) is greater than or equal to (7 * 2)."
      ],
      "metadata": {
        "id": "WsuwkrCWs94L"
      }
    },
    {
      "cell_type": "code",
      "source": [
        "print(\n",
        "   (10-5) >= (7*2)\n",
        ")"
      ],
      "metadata": {
        "id": "e-MxZ9HytE2l",
        "colab": {
          "base_uri": "https://localhost:8080/"
        },
        "outputId": "384ceb6b-21e5-4dde-9304-6b8997db025e"
      },
      "execution_count": null,
      "outputs": [
        {
          "output_type": "stream",
          "name": "stdout",
          "text": [
            "False\n"
          ]
        }
      ]
    },
    {
      "cell_type": "markdown",
      "source": [
        "7.Implement a function to find the intersection of the lists [1, 2, 3, 4, 5] and [4, 5, 6, 7, 8].Fill in the Blanks"
      ],
      "metadata": {
        "id": "fPkaAyoetImF"
      }
    },
    {
      "cell_type": "code",
      "source": [
        "def find_intersection(list1, list2):\n",
        "    intersection=[]\n",
        "    for i in list1:\n",
        "        for j in list2:\n",
        "            if i == j:\n",
        "                intersection.append(i)\n",
        "    return intersection\n",
        "    # Test the function with the given lists\n",
        "list1 = [1, 2, 3, 4, 5]\n",
        "list2 = [4, 5, 6, 7, 8]\n",
        "\n",
        "print(\"Intersection:\", find_intersection(list1, list2))"
      ],
      "metadata": {
        "collapsed": true,
        "id": "bwt3WXXftPZs",
        "colab": {
          "base_uri": "https://localhost:8080/"
        },
        "outputId": "8d74f50f-9317-4b1f-bd53-f7f142765371"
      },
      "execution_count": null,
      "outputs": [
        {
          "output_type": "stream",
          "name": "stdout",
          "text": [
            "Intersection: [4, 5]\n"
          ]
        }
      ]
    },
    {
      "cell_type": "markdown",
      "source": [
        "8.Implement a grading system based on student scores where scores above 60 are considered pass and below are fail. Test the function with scores given\n",
        "\n",
        "scores = [75, 45, 80, 30, 65]"
      ],
      "metadata": {
        "id": "TgrYaYS8uk7S"
      }
    },
    {
      "cell_type": "code",
      "source": [
        "scores=[75, 45, 80, 30, 65]\n",
        "for i in scores:\n",
        "  if i>60:\n",
        "    print(\"Pass\")\n",
        "  else:\n",
        "    print(\"Fail\")"
      ],
      "metadata": {
        "id": "XKY6tnZPup4E",
        "colab": {
          "base_uri": "https://localhost:8080/"
        },
        "outputId": "b29ef426-6f95-4c6d-8c54-a6ee81929c87"
      },
      "execution_count": null,
      "outputs": [
        {
          "output_type": "stream",
          "name": "stdout",
          "text": [
            "Pass\n",
            "Fail\n",
            "Pass\n",
            "Fail\n",
            "Pass\n"
          ]
        }
      ]
    },
    {
      "cell_type": "markdown",
      "source": [
        "9.Implement a countdown timer from 10 to 1 using a while loop."
      ],
      "metadata": {
        "id": "07xikIRmut5-"
      }
    },
    {
      "cell_type": "code",
      "source": [
        "count=10\n",
        "while count>0:\n",
        "  print(count)\n",
        "  count=count-1"
      ],
      "metadata": {
        "id": "zGynzWHou2Lw",
        "colab": {
          "base_uri": "https://localhost:8080/"
        },
        "outputId": "55066fdd-2037-4dc1-83f8-3eb689b9ee13"
      },
      "execution_count": null,
      "outputs": [
        {
          "output_type": "stream",
          "name": "stdout",
          "text": [
            "10\n",
            "9\n",
            "8\n",
            "7\n",
            "6\n",
            "5\n",
            "4\n",
            "3\n",
            "2\n",
            "1\n"
          ]
        }
      ]
    },
    {
      "cell_type": "markdown",
      "source": [
        "10.Make a function that sums the list mylist = [1,2,3,4,5]\n",
        "\n",
        "Can functions be called inside a function?\n",
        "\n",
        "Can a function call itself?\n",
        "\n",
        "Can variables defined in a function be used in another function?\n",
        "\n",
        "print the answers of theoretical questions and mention the concept."
      ],
      "metadata": {
        "id": "ec5zg2bpu3I3"
      }
    },
    {
      "cell_type": "code",
      "source": [
        "mylist = [1,2,3,4,5]\n",
        "def sum_list(mylist):\n",
        "  sum=0\n",
        "  for i in mylist:\n",
        "    sum=sum+i\n",
        "  return sum\n",
        "print(sum_list(mylist))"
      ],
      "metadata": {
        "id": "i5HEpLb2xU2m",
        "colab": {
          "base_uri": "https://localhost:8080/"
        },
        "collapsed": true,
        "outputId": "600e8a64-0425-40ac-d203-fe77bc8736e9"
      },
      "execution_count": null,
      "outputs": [
        {
          "output_type": "stream",
          "name": "stdout",
          "text": [
            "15\n"
          ]
        }
      ]
    },
    {
      "cell_type": "markdown",
      "source": [
        "Yes, Functions can be called inside functions.\n",
        "Yes, Functions can call itself.\n",
        "No, variables defined in a function can be used in that function only. Exceptions can be made using Global scope."
      ],
      "metadata": {
        "id": "9bfWKbGcglpV"
      }
    }
  ]
}